{
 "cells": [
  {
   "cell_type": "markdown",
   "id": "11be4a67",
   "metadata": {},
   "source": [
    "# Stemming\n",
    "Stemming is the process of reducing a word to its word stem that affixes to suffixes and prefixes or\n",
    "to the roots of words known as a lemma. Stemming is important in natural language understanding\n",
    "(NLU) and natural language processing (NLP)."
   ]
  },
  {
   "cell_type": "code",
   "execution_count": 16,
   "id": "92311a17",
   "metadata": {},
   "outputs": [],
   "source": [
    "words = [\"eating\",\"eats\",\"eaten\",\"writing\",\"writes\",\"written\", \"programs\", \"programming\",\"goes\",\"going\",\"gone\",\"finally\",\"finalize\",\"drinking\",\"drank\",\"history\"]"
   ]
  },
  {
   "cell_type": "markdown",
   "id": "104d855b",
   "metadata": {},
   "source": [
    "## Porter Stemmer"
   ]
  },
  {
   "cell_type": "code",
   "execution_count": 11,
   "id": "36561505",
   "metadata": {},
   "outputs": [],
   "source": [
    "from nltk.stem import PorterStemmer"
   ]
  },
  {
   "cell_type": "code",
   "execution_count": 12,
   "id": "d7b580a3",
   "metadata": {},
   "outputs": [],
   "source": [
    "ps = PorterStemmer()"
   ]
  },
  {
   "cell_type": "code",
   "execution_count": 17,
   "id": "3d9635e1",
   "metadata": {},
   "outputs": [
    {
     "name": "stdout",
     "output_type": "stream",
     "text": [
      "eating--->eat\n",
      "eats--->eat\n",
      "eaten--->eaten\n",
      "writing--->write\n",
      "writes--->write\n",
      "written--->written\n",
      "programs--->program\n",
      "programming--->program\n",
      "goes--->goe\n",
      "going--->go\n",
      "gone--->gone\n",
      "finally--->final\n",
      "finalize--->final\n",
      "drinking--->drink\n",
      "drank--->drank\n",
      "history--->histori\n"
     ]
    }
   ],
   "source": [
    "for i in words:\n",
    "    print(i+\"--->\"+ps.stem(i))"
   ]
  },
  {
   "cell_type": "code",
   "execution_count": 18,
   "id": "aed882cc",
   "metadata": {},
   "outputs": [
    {
     "data": {
      "text/plain": [
       "'congratul'"
      ]
     },
     "execution_count": 18,
     "metadata": {},
     "output_type": "execute_result"
    }
   ],
   "source": [
    "ps.stem(\"congratulation\")"
   ]
  },
  {
   "cell_type": "code",
   "execution_count": 19,
   "id": "5effe1e1",
   "metadata": {},
   "outputs": [
    {
     "data": {
      "text/plain": [
       "'sit'"
      ]
     },
     "execution_count": 19,
     "metadata": {},
     "output_type": "execute_result"
    }
   ],
   "source": [
    "ps.stem(\"sitting\")"
   ]
  },
  {
   "cell_type": "markdown",
   "id": "7b1f8f38",
   "metadata": {},
   "source": [
    "## RegexpStemmer class\n",
    "NLTK has RegexpStemmer class with the help of which we can easily implement Regular Expression Stemmer algorithms. It basically takes a single regular expression and removes any prefix or suffix that matches the expression. Let us see an example\n"
   ]
  },
  {
   "cell_type": "code",
   "execution_count": 20,
   "id": "bb658fde",
   "metadata": {},
   "outputs": [],
   "source": [
    "from nltk.stem import RegexpStemmer"
   ]
  },
  {
   "cell_type": "code",
   "execution_count": 28,
   "id": "7a217abb",
   "metadata": {},
   "outputs": [],
   "source": [
    "rxs = RegexpStemmer('ing$|s$|e$|es$|able$', min=4)"
   ]
  },
  {
   "cell_type": "code",
   "execution_count": 29,
   "id": "e91fd032",
   "metadata": {},
   "outputs": [
    {
     "data": {
      "text/plain": [
       "'eat'"
      ]
     },
     "execution_count": 29,
     "metadata": {},
     "output_type": "execute_result"
    }
   ],
   "source": [
    "rxs.stem(\"eating\")"
   ]
  },
  {
   "cell_type": "code",
   "execution_count": 31,
   "id": "e215896d",
   "metadata": {},
   "outputs": [
    {
     "data": {
      "text/plain": [
       "'ingeat'"
      ]
     },
     "execution_count": 31,
     "metadata": {},
     "output_type": "execute_result"
    }
   ],
   "source": [
    "rxs.stem(\"ingeating\")"
   ]
  },
  {
   "cell_type": "code",
   "execution_count": 43,
   "id": "23989607",
   "metadata": {},
   "outputs": [],
   "source": [
    "rxs1 =RegexpStemmer(\"ing\", min=3)"
   ]
  },
  {
   "cell_type": "code",
   "execution_count": 44,
   "id": "1cd9ac01",
   "metadata": {},
   "outputs": [
    {
     "data": {
      "text/plain": [
       "'eat'"
      ]
     },
     "execution_count": 44,
     "metadata": {},
     "output_type": "execute_result"
    }
   ],
   "source": [
    "rxs1.stem(\"ingeating\")"
   ]
  },
  {
   "cell_type": "code",
   "execution_count": 30,
   "id": "032eb542",
   "metadata": {},
   "outputs": [
    {
     "data": {
      "text/plain": [
       "'go'"
      ]
     },
     "execution_count": 30,
     "metadata": {},
     "output_type": "execute_result"
    }
   ],
   "source": [
    "rxs.stem(\"goes\")"
   ]
  },
  {
   "cell_type": "code",
   "execution_count": 46,
   "id": "860e85f1",
   "metadata": {},
   "outputs": [
    {
     "data": {
      "text/plain": [
       "'lov'"
      ]
     },
     "execution_count": 46,
     "metadata": {},
     "output_type": "execute_result"
    }
   ],
   "source": [
    "rxs.stem(\"lovable\")"
   ]
  },
  {
   "cell_type": "code",
   "execution_count": 47,
   "id": "b4638fe4",
   "metadata": {},
   "outputs": [],
   "source": [
    "from nltk.stem import SnowballStemmer"
   ]
  },
  {
   "cell_type": "code",
   "execution_count": 50,
   "id": "231e7a0a",
   "metadata": {},
   "outputs": [],
   "source": [
    "sbs = SnowballStemmer(\"english\")"
   ]
  },
  {
   "cell_type": "code",
   "execution_count": 51,
   "id": "67e7a470",
   "metadata": {},
   "outputs": [
    {
     "name": "stdout",
     "output_type": "stream",
     "text": [
      "eating--->eat\n",
      "eats--->eat\n",
      "eaten--->eaten\n",
      "writing--->write\n",
      "writes--->write\n",
      "written--->written\n",
      "programs--->program\n",
      "programming--->program\n",
      "goes--->goe\n",
      "going--->go\n",
      "gone--->gone\n",
      "finally--->final\n",
      "finalize--->final\n",
      "drinking--->drink\n",
      "drank--->drank\n",
      "history--->histori\n"
     ]
    }
   ],
   "source": [
    "for i in words:\n",
    "    print(i+\"--->\"+sbs.stem(i))"
   ]
  },
  {
   "cell_type": "code",
   "execution_count": 52,
   "id": "3a85df6f",
   "metadata": {},
   "outputs": [
    {
     "data": {
      "text/plain": [
       "'congratul'"
      ]
     },
     "execution_count": 52,
     "metadata": {},
     "output_type": "execute_result"
    }
   ],
   "source": [
    "sbs.stem(\"congratulation\")"
   ]
  },
  {
   "cell_type": "code",
   "execution_count": 54,
   "id": "ce3847ec",
   "metadata": {},
   "outputs": [
    {
     "data": {
      "text/plain": [
       "('fairli', 'sportingli')"
      ]
     },
     "execution_count": 54,
     "metadata": {},
     "output_type": "execute_result"
    }
   ],
   "source": [
    "ps.stem(\"fairly\"), ps.stem(\"sportingly\"),"
   ]
  },
  {
   "cell_type": "code",
   "execution_count": 55,
   "id": "ffc2ab72",
   "metadata": {},
   "outputs": [
    {
     "data": {
      "text/plain": [
       "('fair', 'sport')"
      ]
     },
     "execution_count": 55,
     "metadata": {},
     "output_type": "execute_result"
    }
   ],
   "source": [
    "sbs.stem(\"fairly\"), sbs.stem(\"sportingly\")"
   ]
  }
 ],
 "metadata": {
  "kernelspec": {
   "display_name": "Python 3",
   "language": "python",
   "name": "python3"
  },
  "language_info": {
   "codemirror_mode": {
    "name": "ipython",
    "version": 3
   },
   "file_extension": ".py",
   "mimetype": "text/x-python",
   "name": "python",
   "nbconvert_exporter": "python",
   "pygments_lexer": "ipython3",
   "version": "3.12.0"
  }
 },
 "nbformat": 4,
 "nbformat_minor": 5
}
